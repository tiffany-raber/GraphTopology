{
 "cells": [
  {
   "cell_type": "code",
   "execution_count": 15,
   "metadata": {},
   "outputs": [
    {
     "name": "stdout",
     "output_type": "stream",
     "text": [
      "[0, 1, 0, 0, 0, 1, 0, 1, 0, 0, 1, 0, 1, 1, 1, 0, 1, 0, 1, 0, 1, 1, 0, 1, 0, 1, 0, 0, 1]\n",
      "[0, 1, 1, 0, 1, 1, 1, 0, 0, 0, 1, 0, 0, 1, 1, 0, 1, 1, 0, 1, 0, 0, 1, 1, 0, 0, 0, 1, 0]\n",
      "[0, 1, 0, 1, 1, 0, 0, 1, 1, 0, 0, 0, 1, 1, 1, 0, 0, 0, 1, 0, 1, 1, 0, 1, 1, 1, 0, 0, 0]\n",
      "[1, 0, 1, 0, 0, 1, 1, 0, 0, 1, 1, 1, 0, 0, 0, 1, 1, 1, 0, 1, 0, 0, 1, 0, 0, 0, 1, 1, 1]\n",
      "[0, 1, 1, 0, 1, 0, 1, 1, 0, 1, 1, 0, 0, 0, 1, 1, 0, 0, 1, 0, 0, 0, 1, 1, 0, 1, 1, 0, 0]\n",
      "[1, 0, 0, 1, 0, 1, 0, 0, 1, 0, 0, 1, 1, 1, 0, 0, 1, 1, 0, 1, 1, 1, 0, 0, 1, 0, 0, 1, 1]\n",
      "[1, 0, 0, 1, 0, 0, 0, 1, 1, 1, 0, 1, 1, 0, 0, 1, 0, 0, 1, 0, 1, 1, 0, 0, 1, 1, 1, 0, 1]\n",
      "[1, 0, 1, 1, 1, 0, 1, 0, 1, 1, 0, 1, 0, 0, 0, 1, 0, 1, 0, 1, 0, 0, 1, 0, 1, 0, 1, 1, 0]\n"
     ]
    }
   ],
   "source": [
    "\n",
    "import numpy as np\n",
    "import pandas as pd\n",
    "from itertools import groupby\n",
    "import random\n",
    "\n",
    "trialsPerRun = 28\n",
    "totalRuns = 8\n",
    "maxRepeat = 3\n",
    "\n",
    "df = pd.DataFrame(index=range(trialsPerRun), columns = [\"topDown\", \"repeat\"])\n",
    "\n",
    "# MUST HAVE     1) equal stay/switch trials\n",
    "#               2) Equal topDown/allo trials\n",
    "#               3) same topDown/allo condition for first and last trial (to correct initial trial imbalance)\n",
    "\n",
    "# FIXME consier having a dummy 'first' trial where they begin (pre-scanner waiting instruction) at the center\n",
    "# of the environment; this dummy trial should be whatever the real first trial isn't (e.g., if the first real \n",
    "# trial is topDowncentric, make the dummy trial allocentric so that our real first trial is a true switch; it seems\n",
    "# theoretically impossible to have a stay on the first real trial since nothing comes before it).\n",
    "\n",
    "while (sum(df.repeat == 0) != trialsPerRun / 2) or (sum(df.topDown) != trialsPerRun / 2): # or (df.topDown[0] != df.topDown[uniqueTrials-1]):\n",
    "    sequences = []\n",
    "    order = [1, 0] * (int)(trialsPerRun/2)\n",
    "    \n",
    "    while len(sequences) < totalRuns / 2: # divide by two because we are going to mirror the perspective condition in a sibling-run\n",
    "        random.shuffle(order)\n",
    "        if order in sequences:\n",
    "            continue\n",
    "        if all(len(list(group)) <= maxRepeat for _, group in groupby(order)):\n",
    "            sequences.append(order[:])\n",
    "            \n",
    "    df.topDown = np.transpose(sequences)\n",
    "\n",
    "    for i in range(len(df.repeat)):\n",
    "        if i == 0:\n",
    "            df.repeat = 0\n",
    "            last = df.topDown[i]\n",
    "        else:\n",
    "            if df.topDown[i] == df.topDown[i-1]: df.repeat[i] = df.repeat[i-1] + 1\n",
    "            else: df.repeat[i] = 0\n",
    "            last = df.topDown[i]\n",
    "            \n",
    "\n",
    "# Now that we have our unique blocks, create a mirror for each one and \n",
    "# insert an extra trial at the beginning such that [0] and [1] are opposite for all\n",
    "mirrorSequences = list()\n",
    "for s in sequences:\n",
    "    ms = list()\n",
    "    for i in s:\n",
    "        ms.append(abs(i - 1))\n",
    "    s.insert(0, abs(s[0] - 1))\n",
    "    ms.insert(0, abs(ms[0] - 1))\n",
    "    mirrorSequences.append(ms)\n",
    "\n",
    "# shuffle the order of these nicely balanced runs\n",
    "trials = list()\n",
    "for irun in range(len(sequences)):\n",
    "    trials.append(sequences[irun])\n",
    "    trials.append(mirrorSequences[irun])\n",
    "random.shuffle(trials)\n",
    "for ts in trials: print(ts);\n",
    "\n",
    "# Save an output file for use with Unity\n"
   ]
  },
  {
   "cell_type": "code",
   "execution_count": 17,
   "metadata": {},
   "outputs": [
    {
     "ename": "TypeError",
     "evalue": "unsupported operand type(s) for -: 'list' and 'int'",
     "output_type": "error",
     "traceback": [
      "\u001b[0;31m---------------------------------------------------------------------------\u001b[0m",
      "\u001b[0;31mTypeError\u001b[0m                                 Traceback (most recent call last)",
      "Cell \u001b[0;32mIn[17], line 1\u001b[0m\n\u001b[0;32m----> 1\u001b[0m \u001b[43msequences\u001b[49m\u001b[43m[\u001b[49m\u001b[38;5;241;43m0\u001b[39;49m\u001b[43m]\u001b[49m\u001b[43m \u001b[49m\u001b[38;5;241;43m-\u001b[39;49m\u001b[43m \u001b[49m\u001b[38;5;241;43m1\u001b[39;49m\n",
      "\u001b[0;31mTypeError\u001b[0m: unsupported operand type(s) for -: 'list' and 'int'"
     ]
    }
   ],
   "source": [
    "sequences[0] - 1"
   ]
  },
  {
   "cell_type": "code",
   "execution_count": 14,
   "metadata": {},
   "outputs": [
    {
     "name": "stdout",
     "output_type": "stream",
     "text": [
      "[0, 1, 0, 1, 1, 1, 0, 0, 0, 1, 1, 1, 0, 0, 0, 1, 0, 0, 1, 0, 0, 1, 1, 1, 0, 0, 1, 1, 0]\n",
      "[0, 1, 1, 1, 0, 0, 1, 1, 1, 0, 0, 1, 1, 0, 0, 0, 1, 0, 0, 1, 1, 0, 1, 0, 0, 0, 1, 1, 0]\n",
      "[1, 0, 0, 0, 1, 1, 0, 0, 0, 1, 1, 0, 0, 1, 1, 1, 0, 1, 1, 0, 0, 1, 0, 1, 1, 1, 0, 0, 1]\n",
      "[1, 0, 0, 0, 1, 0, 1, 1, 0, 1, 0, 0, 0, 1, 1, 0, 1, 0, 1, 0, 1, 1, 0, 1, 0, 1, 1, 0, 1]\n",
      "[1, 0, 0, 0, 1, 1, 1, 0, 1, 0, 0, 1, 1, 0, 0, 0, 1, 1, 0, 1, 0, 0, 1, 1, 0, 1, 0, 1, 1]\n",
      "[0, 1, 1, 1, 0, 1, 0, 0, 1, 0, 1, 1, 1, 0, 0, 1, 0, 1, 0, 1, 0, 0, 1, 0, 1, 0, 0, 1, 0]\n",
      "[0, 1, 1, 1, 0, 0, 0, 1, 0, 1, 1, 0, 0, 1, 1, 1, 0, 0, 1, 0, 1, 1, 0, 0, 1, 0, 1, 0, 0]\n",
      "[1, 0, 1, 0, 0, 0, 1, 1, 1, 0, 0, 0, 1, 1, 1, 0, 1, 1, 0, 1, 1, 0, 0, 0, 1, 1, 0, 0, 1]\n"
     ]
    }
   ],
   "source": [
    "\n"
   ]
  },
  {
   "cell_type": "code",
   "execution_count": 37,
   "metadata": {},
   "outputs": [
    {
     "name": "stdout",
     "output_type": "stream",
     "text": [
      "The most a trial repeats is 3 times\n",
      "14/28 trials are switch trials\n",
      "14/28 trials are egocentric trials\n",
      "    ego  repeat\n",
      "0     0       0\n",
      "1     0       1\n",
      "2     0       2\n",
      "3     1       0\n",
      "4     1       1\n",
      "5     1       2\n",
      "6     0       0\n",
      "7     1       0\n",
      "8     0       0\n",
      "9     0       1\n",
      "10    1       0\n",
      "11    1       1\n",
      "12    1       2\n",
      "13    0       0\n",
      "14    0       1\n",
      "15    0       2\n",
      "16    1       0\n",
      "17    1       1\n",
      "18    1       2\n",
      "19    0       0\n",
      "20    0       1\n",
      "21    1       0\n",
      "22    1       1\n",
      "23    0       0\n",
      "24    0       1\n",
      "25    1       0\n",
      "26    0       0\n",
      "27    1       0\n"
     ]
    }
   ],
   "source": [
    "print(\"The most a trial repeats is\", max(df.repeat) + 1, \"times\")\n",
    "print(sum(df.repeat == 0), \"/\", trialsPerRun, \" trials are switch trials\", sep = \"\")\n",
    "print(sum(df.topDown), \"/\", trialsPerRun, \" trials are topDowncentric trials\", sep = \"\")\n",
    "print(df)\n"
   ]
  }
 ],
 "metadata": {
  "kernelspec": {
   "display_name": "Python 3",
   "language": "python",
   "name": "python3"
  },
  "language_info": {
   "codemirror_mode": {
    "name": "ipython",
    "version": 3
   },
   "file_extension": ".py",
   "mimetype": "text/x-python",
   "name": "python",
   "nbconvert_exporter": "python",
   "pygments_lexer": "ipython3",
   "version": "3.11.3"
  }
 },
 "nbformat": 4,
 "nbformat_minor": 2
}
